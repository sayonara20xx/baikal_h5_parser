{
 "cells": [
  {
   "cell_type": "code",
   "execution_count": 35,
   "metadata": {},
   "outputs": [
    {
     "name": "stdout",
     "output_type": "stream",
     "text": [
      "1.3.3 1.21.2\n"
     ]
    }
   ],
   "source": [
    "import numpy as np\n",
    "import matplotlib.pyplot as plt\n",
    "import pandas as pd\n",
    "\n",
    "print(pd.__version__, np.__version__)"
   ]
  },
  {
   "cell_type": "code",
   "execution_count": 36,
   "metadata": {},
   "outputs": [
    {
     "name": "stdout",
     "output_type": "stream",
     "text": [
      "-270.50860595703125 -420.2135925292969 98.30014038085938\n",
      "864\n"
     ]
    }
   ],
   "source": [
    "def load_data_from_csv(filename : str):\n",
    "    # loading and returning ndarray type\n",
    "    import pandas as pd\n",
    "    data_frame = pd.read_csv(filename, index_col=0)\n",
    "    return data_frame.to_numpy()\n",
    "\n",
    "\n",
    "def build_histogram(data : list, title : str = \"histogram\", n_bins : int = 10, param_range : tuple = (False, False)):\n",
    "    import matplotlib.pyplot as plt\n",
    "\n",
    "    # do not know how to do same more reliable, sorry\n",
    "    used_range = ()\n",
    "    first, second = param_range\n",
    "    if (first == second == False):\n",
    "        used_range = (data.min(), data.max())\n",
    "    else:\n",
    "        used_range = param_range\n",
    "\n",
    "    plt.hist(data, bins=n_bins, range=used_range)\n",
    "    plt.title(title)\n",
    "    plt.show()\n",
    "\n",
    "\n",
    "def load_multiple_csvs(sample_data : list, default_csv_data_folder : str = \"./csv_data\"):\n",
    "    '''\n",
    "        returns nothing!\\n\n",
    "        fill input array with data\n",
    "    '''\n",
    "    import os\n",
    "    csvs_filenames = os.listdir(default_csv_data_folder)\n",
    "    \n",
    "    numpy_arrays = []\n",
    "    for csv_filename in csvs_filenames:\n",
    "        relative_path = default_csv_data_folder + \"/\" + csv_filename\n",
    "        if (\"dataset\" in csv_filename):\n",
    "            current_array = load_data_from_csv(relative_path)\n",
    "            numpy_arrays.append(current_array)\n",
    "\n",
    "    sample_data.append(np.concatenate(numpy_arrays))\n",
    "\n",
    "def get_det_coords(detectors_coords_list : list):\n",
    "    csv_data_default_folder = \"./\"\n",
    "    csv_default_filename = \"../assist_data/detector_coords.csv\"\n",
    "\n",
    "    full_relative_name = csv_data_default_folder + \"/\" + csv_default_filename\n",
    "    csv_raw_data = pd.read_csv(full_relative_name, index_col=0)\n",
    "    for row in csv_raw_data.iterrows():\n",
    "        # `uid` is equal list idxs, dont need to add same info\n",
    "        current_det = {\"x\": row[1][7], \"y\": row[1][8], \"z\": row[1][9]}\n",
    "        detectors_coords_list.append(current_det)\n",
    "\n",
    "det_coords = []\n",
    "get_det_coords(det_coords)\n",
    "print(*det_coords[432].values())\n",
    "print(len(det_coords))"
   ]
  },
  {
   "cell_type": "code",
   "execution_count": 37,
   "metadata": {},
   "outputs": [
    {
     "name": "stdout",
     "output_type": "stream",
     "text": [
      "[[ 6.26874695e+01  1.29763049e+03  2.19614924e+00  1.65030846e+00\n",
      "              nan             nan  1.36000000e+02 -4.15873230e-01\n",
      "  -5.72675645e-01 -7.06464469e-01  9.90773865e+02 -1.16737488e+03\n",
      "   4.56303925e+02  1.00000000e+00  0.00000000e+00]\n",
      " [ 7.77671814e+01  1.29768031e+03  2.19614924e+00  1.65033937e+00\n",
      "              nan             nan  1.37000000e+02 -4.15873230e-01\n",
      "  -5.72675645e-01 -7.06464469e-01  9.90773865e+02 -1.16737488e+03\n",
      "   4.56303925e+02  1.00000000e+00  0.00000000e+00]]\n"
     ]
    }
   ],
   "source": [
    "# Загружаем данные из файла\n",
    "\n",
    "sample_data = []\n",
    "load_multiple_csvs(sample_data, default_csv_data_folder=\"../csv_data/analyze_data_4\")\n",
    "sample_data = sample_data[0]\n",
    "\n",
    "print(sample_data[1000:1002])"
   ]
  },
  {
   "cell_type": "code",
   "execution_count": 44,
   "metadata": {},
   "outputs": [
    {
     "name": "stdout",
     "output_type": "stream",
     "text": [
      "[-3.03020607e+02  1.28042685e+03  2.15875814e+00  1.13868932e+00\n",
      "             nan             nan  0.00000000e+00 -3.03059638e-01\n",
      "  6.89563215e-01 -6.57766998e-01  1.26796545e+03 -2.35018478e+02\n",
      "  4.01273438e+02  0.00000000e+00  0.00000000e+00]\n",
      "520496\n",
      "[-0.41587323] [0.9259845]\n",
      "[-0.57267565] [-0.34975404]\n",
      "[-0.70646447] [-0.14221385]\n",
      "[136. 137. 138. 139. 140.]\n"
     ]
    }
   ],
   "source": [
    "# Переворачиваем их, получая листы значений каждой величины, как-будто столбцы в пандасе\n",
    "sample_data_swaped = sample_data.swapaxes(0, 1)\n",
    "\n",
    "#data_cols_labels = [\"z\", \"rho\", \"theta\", \n",
    "#                    0    1      2\n",
    "#                    \"phi\", \"activation_time\", \"probs_mult\", \n",
    "#                    3      4                  5\n",
    "#                    \"targer_det\", \"x_dir\", \"y_dir\", \"z_dir\", \"x_loc\", \"y_loc\", \"z_loc\", \"event_n\", \"is_event_hit\"] \n",
    "#                    6             7        8        9        10       11       12       13         14\n",
    "print(sample_data[0])\n",
    "\n",
    "from get_dataset_values import get_rho_det_origin, get_phi_det_origin, get_theta_det_origin\n",
    "from get_dataset_values import get_rho, get_phi, get_theta\n",
    "\n",
    "sample_x_dir = sample_data_swaped[7]\n",
    "sample_y_dir = sample_data_swaped[8]\n",
    "sample_z_dir = sample_data_swaped[9]\n",
    "det_ids = sample_data_swaped[6]\n",
    "\n",
    "print(len(sample_x_dir))\n",
    "print(sample_x_dir[1000:1001], sample_x_dir[2000:2001])\n",
    "print(sample_y_dir[1000:1001], sample_y_dir[2000:2001])\n",
    "print(sample_z_dir[1000:1001], sample_z_dir[2000:2001])\n",
    "print(det_ids[1000:1005])"
   ]
  },
  {
   "cell_type": "code",
   "execution_count": 47,
   "metadata": {},
   "outputs": [],
   "source": [
    "# для каждого считанного значения считаю значения функций для валидации уже посчитанных\n",
    "# значений в датасете\n",
    "# в датасете выполнялась группа моих (листы `my_*`)\n",
    "\n",
    "pho_values = []\n",
    "phi_values = []\n",
    "theta_values = []\n",
    "\n",
    "my_pho_values = []\n",
    "my_phi_values = []\n",
    "my_theta_values = []\n",
    "\n",
    "# просто список ссылок на списки, чтобы потом их названия не писать\n",
    "list_links = [pho_values, phi_values, theta_values,\n",
    "              my_pho_values, my_phi_values, my_theta_values]\n",
    "\n",
    "prev_dir_value = None\n",
    "current_distance = None\n",
    "\n",
    "from math import acos, sqrt\n",
    "\n",
    "def get_vec_module_3d(vec : list):\n",
    "    return (sqrt(pow(vec[0], 2) + pow(vec[1], 2)) + pow(vec[2], 2))\n",
    "\n",
    "def get_theta(cascade_vec : list):\n",
    "    '''\n",
    "        theta is angle between Z and cascade direction\n",
    "        z direction is (0, 0, 1)\n",
    "        cascade (x1, y1, z1)\n",
    "                                 z1\n",
    "        alpha = acos __________________________\n",
    "                      sqrt(x1^2 + y1^2 + z1^2)\n",
    "    '''\n",
    "    return cascade_vec[2] / get_vec_module_3d(cascade_vec)\n",
    "\n",
    "for i, x_dir, y_dir, z_dir, det_id in zip(range(len(sample_x_dir)), sample_x_dir, sample_y_dir, sample_z_dir, det_ids):\n",
    "    # получаю значения положения каскада и оптического модуля в трех осях\n",
    "    # положения модуля: с помощью своих функций, где участвует считанный из датасета номер модуля\n",
    "    # положение каскада: из датасета\n",
    "    current_det_coords = list(det_coords[int(det_id)].values())\n",
    "    current_cascade_coords = sample_data[i][10:13]\n",
    "    \n",
    "    cascade_vec = [x_dir, y_dir, z_dir]\n",
    "\n",
    "    # три величины: разности координат по трём осям\n",
    "    # и всё это нужно для расчёта pho\n",
    "    coords_diff = []\n",
    "    for (det_c, casc_c) in zip(current_det_coords, current_cascade_coords):\n",
    "        coords_diff.append(det_c - casc_c)\n",
    "\n",
    "    pho_values.append(get_rho_det_origin(*coords_diff[0:2]))\n",
    "    phi_values.append(get_phi_det_origin(x_dir, y_dir) / np.pi * 180)\n",
    "    theta_values.append(get_theta_det_origin(x_dir, y_dir, z_dir) / np.pi * 180)\n",
    "\n",
    "    my_pho_values.append(get_rho(current_det_coords, current_cascade_coords))\n",
    "    my_phi_values.append((get_phi(current_det_coords, current_cascade_coords, cascade_vec) / np.pi * 360) - 180)\n",
    "    my_theta_values.append(get_theta(cascade_vec) / np.pi * 180)"
   ]
  },
  {
   "cell_type": "code",
   "execution_count": 48,
   "metadata": {},
   "outputs": [
    {
     "data": {
      "image/png": "[encoded data removed]",
      "text/plain": [
       "<Figure size 1080x1080 with 6 Axes>"
      ]
     },
     "metadata": {
      "needs_background": "light"
     },
     "output_type": "display_data"
    }
   ],
   "source": [
    "histos_titles = [\"pho\", \"phi\", \"theta\",\n",
    "                 \"my_pho\", \"my_phi\", \"my_theta\"]\n",
    "\n",
    "fig, axs = plt.subplots(3, 2)\n",
    "fig.set_figheight(15)\n",
    "fig.set_figwidth(15)\n",
    "\n",
    "for (i, curr_list, curr_title) in zip(range(len(histos_titles)), list_links, histos_titles):    \n",
    "    axs[i % 3, i // 3].hist(np.array(curr_list), bins=100)\n",
    "    axs[i % 3, i // 3].set_title(curr_title)\n",
    "    #print(i % 3, i // 3) # (меняется от 0 до 2 с иттерациями, меняется от 0 до (len(list)/3)-1 в рамках всех иттераций)"
   ]
  },
  {
   "cell_type": "code",
   "execution_count": 52,
   "metadata": {},
   "outputs": [
    {
     "name": "stdout",
     "output_type": "stream",
     "text": [
      "0. current h5 file relative name is ../h5_coll//auto_events_1.h5\n",
      "1. current h5 file relative name is ../h5_coll//auto_events_2.h5\n",
      "2. current h5 file relative name is ../h5_coll//auto_events_3.h5\n",
      "3. current h5 file relative name is ../h5_coll//auto_events_4.h5\n",
      "4. current h5 file relative name is ../h5_coll//auto_events_5.h5\n",
      "5. current h5 file relative name is ../h5_coll//auto_events_6.h5\n",
      "6. current h5 file relative name is ../h5_coll//auto_events_7.h5\n",
      "7. current h5 file relative name is ../h5_coll//auto_events_8.h5\n",
      "8. current h5 file relative name is ../h5_coll//auto_events_9.h5\n",
      "9. current h5 file relative name is ../h5_coll//auto_events_10.h5\n",
      "10. current h5 file relative name is ../h5_coll//auto_events_11.h5\n",
      "11. current h5 file relative name is ../h5_coll//auto_events_12.h5\n",
      "12. current h5 file relative name is ../h5_coll//auto_events_13.h5\n",
      "13. current h5 file relative name is ../h5_coll//auto_events_14.h5\n",
      "14. current h5 file relative name is ../h5_coll//auto_events_15.h5\n",
      "15. current h5 file relative name is ../h5_coll//auto_events_16.h5\n",
      "16. current h5 file relative name is ../h5_coll//auto_events_17.h5\n",
      "17. current h5 file relative name is ../h5_coll//auto_events_18.h5\n",
      "18. current h5 file relative name is ../h5_coll//auto_events_19.h5\n",
      "19. current h5 file relative name is ../h5_coll//auto_events_20.h5\n",
      "20. current h5 file relative name is ../h5_coll//auto_events_21.h5\n",
      "21. current h5 file relative name is ../h5_coll//auto_events_22.h5\n",
      "22. current h5 file relative name is ../h5_coll//auto_events_23.h5\n",
      "23. current h5 file relative name is ../h5_coll//auto_events_24.h5\n",
      "24. current h5 file relative name is ../h5_coll//auto_events_25.h5\n",
      "25. current h5 file relative name is ../h5_coll//auto_events_26.h5\n",
      "26. current h5 file relative name is ../h5_coll//auto_events_27.h5\n",
      "27. current h5 file relative name is ../h5_coll//auto_events_28.h5\n",
      "28. current h5 file relative name is ../h5_coll//auto_events_29.h5\n"
     ]
    },
    {
     "ename": "KeyboardInterrupt",
     "evalue": "",
     "output_type": "error",
     "traceback": [
      "\u001b[1;31m---------------------------------------------------------------------------\u001b[0m",
      "\u001b[1;31mKeyboardInterrupt\u001b[0m                         Traceback (most recent call last)",
      "\u001b[1;32mc:\\USER_SPECIFIED_DATA\\Dev\\ml_dl_data_science\\baikal_neuro\\baikal_NN\\analyze\\analyze_data_5.ipynb Cell 7'\u001b[0m in \u001b[0;36m<cell line: 5>\u001b[1;34m()\u001b[0m\n\u001b[0;32m     <a href='vscode-notebook-cell:/c%3A/USER_SPECIFIED_DATA/Dev/ml_dl_data_science/baikal_neuro/baikal_NN/analyze/analyze_data_5.ipynb#ch0000010?line=24'>25</a>\u001b[0m     current_relative_filename \u001b[39m=\u001b[39m default_data_folder_name \u001b[39m+\u001b[39m \u001b[39m\"\u001b[39m\u001b[39m/\u001b[39m\u001b[39m\"\u001b[39m \u001b[39m+\u001b[39m current_filename\n\u001b[0;32m     <a href='vscode-notebook-cell:/c%3A/USER_SPECIFIED_DATA/Dev/ml_dl_data_science/baikal_neuro/baikal_NN/analyze/analyze_data_5.ipynb#ch0000010?line=25'>26</a>\u001b[0m     \u001b[39mprint\u001b[39m(\u001b[39m\"\u001b[39m\u001b[39m{}\u001b[39;00m\u001b[39m. current h5 file relative name is \u001b[39m\u001b[39m{}\u001b[39;00m\u001b[39m\"\u001b[39m\u001b[39m.\u001b[39mformat(iteration_num, current_relative_filename))\n\u001b[1;32m---> <a href='vscode-notebook-cell:/c%3A/USER_SPECIFIED_DATA/Dev/ml_dl_data_science/baikal_neuro/baikal_NN/analyze/analyze_data_5.ipynb#ch0000010?line=27'>28</a>\u001b[0m     read_hdf5(current_relative_filename, current_file_sample_info)\n\u001b[0;32m     <a href='vscode-notebook-cell:/c%3A/USER_SPECIFIED_DATA/Dev/ml_dl_data_science/baikal_neuro/baikal_NN/analyze/analyze_data_5.ipynb#ch0000010?line=29'>30</a>\u001b[0m \u001b[39mprint\u001b[39m(\u001b[39mlen\u001b[39m(current_file_sample_info))\n",
      "File \u001b[1;32mc:\\USER_SPECIFIED_DATA\\Dev\\ml_dl_data_science\\baikal_neuro\\baikal_NN\\analyze\\read_h5.py:195\u001b[0m, in \u001b[0;36mread_hdf5\u001b[1;34m(filename, samples_list)\u001b[0m\n\u001b[0;32m    <a href='file:///c%3A/USER_SPECIFIED_DATA/Dev/ml_dl_data_science/baikal_neuro/baikal_NN/analyze/read_h5.py?line=191'>192</a>\u001b[0m z \u001b[39m=\u001b[39m get_z(det_center_coords, location_info)\n\u001b[0;32m    <a href='file:///c%3A/USER_SPECIFIED_DATA/Dev/ml_dl_data_science/baikal_neuro/baikal_NN/analyze/read_h5.py?line=193'>194</a>\u001b[0m \u001b[39m# append same way\u001b[39;00m\n\u001b[1;32m--> <a href='file:///c%3A/USER_SPECIFIED_DATA/Dev/ml_dl_data_science/baikal_neuro/baikal_NN/analyze/read_h5.py?line=194'>195</a>\u001b[0m samples_list\u001b[39m.\u001b[39mappend([z, rho, theta, phi, \u001b[39mNone\u001b[39;00m, \u001b[39mNone\u001b[39;00m,\n\u001b[0;32m    <a href='file:///c%3A/USER_SPECIFIED_DATA/Dev/ml_dl_data_science/baikal_neuro/baikal_NN/analyze/read_h5.py?line=195'>196</a>\u001b[0m                      det_id, \u001b[39m*\u001b[39mparticle_direction, \u001b[39m*\u001b[39mlocation_info, events_counter, is_event_hit])\n",
      "\u001b[1;31mKeyboardInterrupt\u001b[0m: "
     ]
    }
   ],
   "source": [
    "from read_h5 import read_hdf5\n",
    "import os\n",
    "\n",
    "if (True):\n",
    "    default_data_folder_name = \"../h5_coll\"\n",
    "\n",
    "    h5_filenames_list = os.listdir(default_data_folder_name)\n",
    "    \n",
    "    # get only digits and cast them to `int` for comparsion function\n",
    "    def comparsion_key(filename : str):\n",
    "        import re\n",
    "        #print(int(re.findall(r\"\\d+\", filename)[0]))\n",
    "        return int(re.findall(r\"\\d+\", filename)[0])\n",
    "    \n",
    "    # get h5 files sorted\n",
    "    h5_filenames_list.sort(key=comparsion_key)\n",
    "    #print(h5_filenames_list)\n",
    "    \n",
    "    current_file_sample_info = []\n",
    "    # iter number isnt neccessary, but looking pretty cool\n",
    "    for (iteration_num, current_filename) in zip(range(len(h5_filenames_list)), h5_filenames_list):\n",
    "        # create ref to empty list\n",
    "\n",
    "        # assembly path to current file (folder + filename)\n",
    "        current_relative_filename = default_data_folder_name + \"/\" + current_filename\n",
    "        print(\"{}. current h5 file relative name is {}\".format(iteration_num, current_relative_filename))\n",
    "        \n",
    "        read_hdf5(current_relative_filename, current_file_sample_info)\n",
    "\n",
    "    print(len(current_file_sample_info))"
   ]
  },
  {
   "cell_type": "code",
   "execution_count": null,
   "metadata": {},
   "outputs": [],
   "source": []
  }
 ],
 "metadata": {
  "interpreter": {
   "hash": "24f9485ab1d10e886103e96fbf8e52828e6fad9414abcc972a2f188dea3be222"
  },
  "kernelspec": {
   "display_name": "Python 3.9.7 64-bit",
   "language": "python",
   "name": "python3"
  },
  "language_info": {
   "codemirror_mode": {
    "name": "ipython",
    "version": 3
   },
   "file_extension": ".py",
   "mimetype": "text/x-python",
   "name": "python",
   "nbconvert_exporter": "python",
   "pygments_lexer": "ipython3",
   "version": "3.9.7"
  },
  "orig_nbformat": 4
 },
 "nbformat": 4,
 "nbformat_minor": 2
}
