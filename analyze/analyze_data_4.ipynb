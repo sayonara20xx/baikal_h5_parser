{
 "cells": [
  {
   "cell_type": "markdown",
   "metadata": {},
   "source": [
    "Нужно проверить распределение величины угла между проекцией направления каскада на плоскость XoY и осью oX\n",
    "\n",
    "Нужно проверить гипотезу, что если в процессе моделирования хиты происходят цепочками event-ов каскадов, т.е.\n",
    "если в моделировании текущего каскада были срабатывания детекторов, то шанс активации детекторов в обработке\n",
    "следующего возрастает"
   ]
  },
  {
   "cell_type": "code",
   "execution_count": 1,
   "metadata": {},
   "outputs": [
    {
     "name": "stdout",
     "output_type": "stream",
     "text": [
      "1.3.3 1.21.2\n"
     ]
    }
   ],
   "source": [
    "import numpy as np\n",
    "import matplotlib.pyplot as plt\n",
    "import pandas as pd\n",
    "\n",
    "print(pd.__version__, np.__version__)"
   ]
  },
  {
   "cell_type": "code",
   "execution_count": 2,
   "metadata": {},
   "outputs": [],
   "source": [
    "def load_data_from_csv(filename : str):\n",
    "    # loading and returning ndarray type\n",
    "    import pandas as pd\n",
    "    data_frame = pd.read_csv(filename, index_col=0)\n",
    "    return data_frame.to_numpy()\n",
    "\n",
    "import os\n",
    "default_csv_data_folder=\"../csv_data\"\n",
    "csvs_filenames = os.listdir(default_csv_data_folder)\n",
    "for csv_filename in csvs_filenames:\n",
    "    cc = 0\n",
    "    relative_path = default_csv_data_folder + \"/\" + csv_filename\n",
    "    if (\"dataset\" in csv_filename):\n",
    "        current_array = load_data_from_csv(relative_path)\n",
    "        for sample in current_array:\n",
    "            if (sample[5] > 0):\n",
    "                cc += 1\n",
    "        print(relative_path, cc)"
   ]
  },
  {
   "cell_type": "code",
   "execution_count": 3,
   "metadata": {},
   "outputs": [],
   "source": [
    "def load_data_from_csv(filename : str):\n",
    "    # loading and returning ndarray type\n",
    "    import pandas as pd\n",
    "    data_frame = pd.read_csv(filename, index_col=0)\n",
    "    return data_frame.to_numpy()\n",
    "\n",
    "\n",
    "def build_histogram(data : list, title : str = \"histogram\", n_bins : int = 10, param_range : tuple = (False, False)):\n",
    "    import matplotlib.pyplot as plt\n",
    "\n",
    "    # do not know how to fo same more reliable, sorry\n",
    "    used_range = ()\n",
    "    first, second = param_range\n",
    "    if (first == second == False):\n",
    "        used_range = (data.min(), data.max())\n",
    "    else:\n",
    "        used_range = param_range\n",
    "\n",
    "    plt.hist(data, bins=n_bins, range=used_range)\n",
    "    plt.title(title)\n",
    "    plt.show()\n",
    "\n",
    "\n",
    "def load_multiple_csvs(sample_data : list, default_csv_data_folder : str = \"./csv_data\"):\n",
    "    '''\n",
    "        returns nothing!\\n\n",
    "        fill input array with data\n",
    "    '''\n",
    "    import os\n",
    "    csvs_filenames = os.listdir(default_csv_data_folder)\n",
    "    \n",
    "    numpy_arrays = []\n",
    "    for csv_filename in csvs_filenames:\n",
    "        relative_path = default_csv_data_folder + \"/\" + csv_filename\n",
    "        if (\"dataset\" in csv_filename):\n",
    "            current_array = load_data_from_csv(relative_path)\n",
    "            numpy_arrays.append(current_array)\n",
    "\n",
    "    sample_data.append(np.concatenate(numpy_arrays))"
   ]
  },
  {
   "cell_type": "code",
   "execution_count": 4,
   "metadata": {},
   "outputs": [
    {
     "name": "stdout",
     "output_type": "stream",
     "text": [
      "[[ 6.26874695e+01  1.29763049e+03  2.19614924e+00  1.65030846e+00\n",
      "              nan             nan  1.36000000e+02 -4.15873230e-01\n",
      "  -5.72675645e-01 -7.06464469e-01  9.90773865e+02 -1.16737488e+03\n",
      "   4.56303925e+02  1.00000000e+00  0.00000000e+00]\n",
      " [ 7.77671814e+01  1.29768031e+03  2.19614924e+00  1.65033937e+00\n",
      "              nan             nan  1.37000000e+02 -4.15873230e-01\n",
      "  -5.72675645e-01 -7.06464469e-01  9.90773865e+02 -1.16737488e+03\n",
      "   4.56303925e+02  1.00000000e+00  0.00000000e+00]]\n"
     ]
    }
   ],
   "source": [
    "sample_data = []\n",
    "load_multiple_csvs(sample_data, default_csv_data_folder=\"../csv_data/analyze_data_4\")\n",
    "sample_data = sample_data[0]\n",
    "\n",
    "print(sample_data[1000:1002])"
   ]
  },
  {
   "cell_type": "code",
   "execution_count": 5,
   "metadata": {},
   "outputs": [],
   "source": [
    "sample_data_swaped = sample_data.swapaxes(0, 1)"
   ]
  },
  {
   "cell_type": "code",
   "execution_count": 6,
   "metadata": {},
   "outputs": [],
   "source": [
    "#data_cols_labels = [\"z\", \"rho\", \"theta\", #0 1 2\n",
    "#                    \"phi\", \"activation_time\", \"probs_mult\", # 3 4 5\n",
    "#                    \"targer_det\", \"x_dir\", \"y_dir\", \"z_dir\", \"x_loc\", \"y_loc\", \"z_loc\", \"event_n\", \"is_event_hit\"] # 6 7 8 9 10 11 12 13 14\n",
    "\n",
    "event_num_info = sample_data_swaped[13]\n",
    "event_hit_info = sample_data_swaped[14]"
   ]
  },
  {
   "cell_type": "code",
   "execution_count": 7,
   "metadata": {},
   "outputs": [
    {
     "name": "stdout",
     "output_type": "stream",
     "text": [
      "[(0.0, 0.0), (1.0, 0.0), (2.0, 0.0), (3.0, 0.0), (4.0, 0.0)]\n",
      "600\n"
     ]
    }
   ],
   "source": [
    "hit_cascade_info = []\n",
    "\n",
    "prev_num = -1\n",
    "for i in range(len(event_num_info)):\n",
    "    if (event_num_info[i] != prev_num):\n",
    "        hit_cascade_info.append((event_num_info[i], event_hit_info[i]))\n",
    "    prev_num = event_num_info[i]\n",
    "\n",
    "print(hit_cascade_info[:5])\n",
    "print(len(hit_cascade_info))"
   ]
  },
  {
   "cell_type": "code",
   "execution_count": 8,
   "metadata": {},
   "outputs": [
    {
     "name": "stdout",
     "output_type": "stream",
     "text": [
      "[1, 1, 1, 1, 1, 1, 1, 1, 1, 1, 1, 1, 1, 1, 1, 1, 1, 2, 1, 1, 1, 1, 1, 1, 2, 1, 1, 1, 1, 1, 1, 1, 1]\n"
     ]
    }
   ],
   "source": [
    "hit_cascades_in_row = []\n",
    "\n",
    "curr_len = 0\n",
    "for num, is_hit in hit_cascade_info:\n",
    "    if (is_hit == 1):\n",
    "        curr_len += 1\n",
    "    \n",
    "    if (curr_len != 0 and is_hit == 0):\n",
    "        hit_cascades_in_row.append(curr_len)\n",
    "        curr_len = 0\n",
    "\n",
    "print(hit_cascades_in_row)"
   ]
  },
  {
   "cell_type": "code",
   "execution_count": 9,
   "metadata": {},
   "outputs": [
    {
     "name": "stdout",
     "output_type": "stream",
     "text": [
      "520496\n",
      "[-0.41587323 -0.41587323 -0.41587323 -0.41587323 -0.41587323]\n",
      "[-0.57267565 -0.57267565 -0.57267565 -0.57267565 -0.57267565]\n",
      "[136. 137. 138. 139. 140.]\n"
     ]
    }
   ],
   "source": [
    "from get_dataset_values import get_phi_det_origin, get_theta_det_origin, get_rho_det_origin\n",
    "\n",
    "sample_x_dir = sample_data_swaped[7]\n",
    "sample_y_dir = sample_data_swaped[8]\n",
    "det_ids = sample_data_swaped[6]\n",
    "\n",
    "print(len(sample_x_dir))\n",
    "print(sample_x_dir[1000:1005])\n",
    "print(sample_y_dir[1000:1005])\n",
    "print(det_ids[1000:1005])"
   ]
  },
  {
   "cell_type": "code",
   "execution_count": 10,
   "metadata": {},
   "outputs": [
    {
     "name": "stdout",
     "output_type": "stream",
     "text": [
      "-270.50860595703125 -420.2135925292969 98.30014038085938\n"
     ]
    }
   ],
   "source": [
    "def get_det_coords(detectors_coords_list : list):\n",
    "    csv_data_default_folder = \"./\"\n",
    "    csv_default_filename = \"../assist_data/detector_coords.csv\"\n",
    "\n",
    "    full_relative_name = csv_data_default_folder + \"/\" + csv_default_filename\n",
    "    csv_raw_data = pd.read_csv(full_relative_name, index_col=0)\n",
    "    for row in csv_raw_data.iterrows():\n",
    "        # `uid` is equal list idxs, dont need to add same info\n",
    "        current_det = {\"x\": row[1][7], \"y\": row[1][8], \"z\": row[1][9]}\n",
    "        detectors_coords_list.append(current_det)\n",
    "\n",
    "det_coords = []\n",
    "get_det_coords(det_coords)\n",
    "print(*det_coords[432].values())"
   ]
  },
  {
   "cell_type": "code",
   "execution_count": 16,
   "metadata": {},
   "outputs": [
    {
     "name": "stdout",
     "output_type": "stream",
     "text": [
      "600\n",
      "[-173.82709959131978, 133.57531005664939, 99.51815706611168, 88.15987572583442, 164.5763037131077, -120.60285222896749, -91.16367426836213, 30.84487796499905, -129.93270890799587, -80.88964644172081]\n"
     ]
    }
   ],
   "source": [
    "angle_values = []\n",
    "prev_dir_value = None\n",
    "\n",
    "for x_dir, y_dir, det_id in zip(sample_x_dir, sample_y_dir, det_ids):\n",
    "    if (prev_dir_value != x_dir):\n",
    "        angle_values.append(get_phi_det_origin(x_dir, y_dir) / np.pi * 180)\n",
    "    prev_dir_value = x_dir\n",
    "\n",
    "print(len(angle_values))\n",
    "print(angle_values[100:110])"
   ]
  },
  {
   "cell_type": "code",
   "execution_count": 17,
   "metadata": {},
   "outputs": [
    {
     "data": {
      "image/png": "[encoded data removed]",
      "text/plain": [
       "<Figure size 432x288 with 1 Axes>"
      ]
     },
     "metadata": {
      "needs_background": "light"
     },
     "output_type": "display_data"
    }
   ],
   "source": [
    "build_histogram(np.array(angle_values), n_bins=100, title=\"cos theta\")"
   ]
  },
  {
   "cell_type": "code",
   "execution_count": null,
   "metadata": {},
   "outputs": [],
   "source": []
  }
 ],
 "metadata": {
  "interpreter": {
   "hash": "24f9485ab1d10e886103e96fbf8e52828e6fad9414abcc972a2f188dea3be222"
  },
  "kernelspec": {
   "display_name": "Python 3.9.7 64-bit",
   "language": "python",
   "name": "python3"
  },
  "language_info": {
   "codemirror_mode": {
    "name": "ipython",
    "version": 3
   },
   "file_extension": ".py",
   "mimetype": "text/x-python",
   "name": "python",
   "nbconvert_exporter": "python",
   "pygments_lexer": "ipython3",
   "version": "3.9.7"
  },
  "orig_nbformat": 4
 },
 "nbformat": 4,
 "nbformat_minor": 2
}
